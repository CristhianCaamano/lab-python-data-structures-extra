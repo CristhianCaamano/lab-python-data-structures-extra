{
 "cells": [
  {
   "cell_type": "markdown",
   "metadata": {},
   "source": [
    "# Lab | Data Structures "
   ]
  },
  {
   "cell_type": "markdown",
   "metadata": {},
   "source": [
    "## Exercise 1: Working with Lists"
   ]
  },
  {
   "cell_type": "markdown",
   "metadata": {},
   "source": [
    "Imagine you are building a program for a teacher who wants to track the progress of their students throughout the semester. The teacher wants to input the grades of each student one by one, and get a summary of their performance. There are in total 5 students. You are tasked with building the program that will allow the teacher to do this easily.\n",
    "\n",
    "The program will prompt the teacher to enter the grades of each student. Once the teacher has entered all the grades, the program will calculate the total sum of the grades and display it on the screen. Then, the program will create a new list by selecting only the grades of the first, third, and fifth students entered by the teacher, and sort them in ascending order.\n",
    "\n",
    "Finally, the program will print out the new list, along with its length and the number of occurrences of the score 5 in the list. This will give the teacher a good overview of the performance of the selected students, and help them identify any potential issues early on."
   ]
  },
  {
   "cell_type": "markdown",
   "metadata": {},
   "source": [
    "*Hint:*\n",
    "- You can use the input() function to ask the user to enter their information.\n",
    "- Look for list methods to perform the tasks. \n",
    "- Remember, it is possible to get a part of the sequence using:\n",
    "\n",
    "    ```python\n",
    "    sequence[x:y:z]\n",
    "    ```\n",
    "    where x, y, z are integers.\n",
    "\n",
    "    The above returns a new sequence with the following characteristics:\n",
    "\n",
    "    - A sequence with the same type as the original (a slice of a list is a list, a slice of a tuple is a tuple, and a slice of a string is a string).\n",
    "    - A sequence with elements from `sequence [x]` to `sequence [y-1]` (does not include a sequence [y]). By skipping `z` elements each time, it can be omitted if ` z = 1`.\n"
   ]
  },
  {
   "cell_type": "markdown",
   "metadata": {},
   "source": [
    "*Recommended External Resources:*\n",
    "- *[Python Lists](https://www.w3schools.com/python/python_lists.asp)*\n",
    "- *[Python List Methods](https://www.w3schools.com/python/python_ref_list.asp)*\n",
    "- *[Python Built-in Functions](https://docs.python.org/3/library/functions.html)*\n"
   ]
  },
  {
   "cell_type": "code",
   "execution_count": 17,
   "metadata": {},
   "outputs": [
    {
     "name": "stdin",
     "output_type": "stream",
     "text": [
      "Enter student grade:  4\n",
      "Enter student grade:  3\n",
      "Enter student grade:  6\n",
      "Enter student grade:  8\n",
      "Enter student grade:  4\n"
     ]
    },
    {
     "name": "stdout",
     "output_type": "stream",
     "text": [
      "The total of all grades is: 25.0\n",
      "The selected grades are: [4.0, 4.0, 6.0]\n",
      "The lenght of the new list is: {3}\n",
      "The total of ocurrences of the score 5 in the list is: 0\n"
     ]
    }
   ],
   "source": [
    "grades = []\n",
    "student_1 = float(input('Enter student grade: '))\n",
    "grades.append(student_1)\n",
    "student_2 = float(input('Enter student grade: '))\n",
    "grades.append(student_2)\n",
    "student_3 = float(input('Enter student grade: '))\n",
    "grades.append(student_3)\n",
    "student_4 = float(input('Enter student grade: '))\n",
    "grades.append(student_4)\n",
    "student_5 = float(input('Enter student grade: '))\n",
    "grades.append(student_5)\n",
    "\n",
    "total = sum(grades)\n",
    "print('The total of all grades is:',total)\n",
    "\n",
    "grade = [grades[0], grades[2], grades[4]]\n",
    "grade.sort()\n",
    "print('The selected grades are:', grade)\n",
    "\n",
    "print(f'The lenght of the new list is:', {len(grade)})\n",
    "\n",
    "ocurrences = grade.count(5)\n",
    "print('The total of ocurrences of the score 5 in the list is:', ocurrences)"
   ]
  },
  {
   "cell_type": "markdown",
   "metadata": {},
   "source": [
    "## Exercise 2: Tuples"
   ]
  },
  {
   "cell_type": "markdown",
   "metadata": {},
   "source": [
    "Imagine you're running a fruit stand and want to keep track of your inventory. Write a Python program that does the following:\n",
    "\n",
    "- Initializes a tuple with 5 different types of fruit.\n",
    "- Outputs the first and last elements of the tuple, so you can see the full range of fruits the store offers.\n",
    "- Replaces the second element of the tuple with a new fruit that the store has recently received, and prints the updated tuple so you can see the changes.\n",
    "- Concatenates a new tuple containing 2 additional fruits to the original tuple, so you can add them to the store inventory, and prints the resulting tuple to see the updated inventory.\n",
    "- Splits the resulting tuple into 2 tuples of 3 elements each (the first tuple contains the first 3 elements, and the second tuple contains the last 3 elements), so you can organize the inventory more effectively.\n",
    "- Combines the 2 tuples from the previous step with the original tuple into a new tuple, and prints the resulting tuple and its length, so you can see the final inventory after all the changes."
   ]
  },
  {
   "cell_type": "markdown",
   "metadata": {},
   "source": [
    "*Recommended External Resources: [Python Tuples Examples and Methods](https://www.w3schools.com/python/python_tuples.asp)*\n",
    "\n"
   ]
  },
  {
   "cell_type": "code",
   "execution_count": 4,
   "metadata": {},
   "outputs": [
    {
     "name": "stdout",
     "output_type": "stream",
     "text": [
      "First fruit: apple\n",
      "Last fruit: strawberry\n"
     ]
    }
   ],
   "source": [
    "fruits = (\"apple\", \"banana\", \"cherry\", \"orange\", \"strawberry\")\n",
    "first_fruit = fruits[0]\n",
    "last_fruit = fruits[-1]\n",
    "\n",
    "print(f\"First fruit: {first_fruit}\")\n",
    "print(f\"Last fruit: {last_fruit}\")"
   ]
  },
  {
   "cell_type": "code",
   "execution_count": 8,
   "metadata": {},
   "outputs": [
    {
     "name": "stdout",
     "output_type": "stream",
     "text": [
      "Updated tuple with new fruit:\n",
      "('apple', 'watermelon', 'cherry', 'orange', 'strawberry')\n"
     ]
    }
   ],
   "source": [
    "fruits_list = list(fruits)\n",
    "\n",
    "fruits_list[1] = \"watermelon\"\n",
    "\n",
    "new_fruits = tuple(fruits_list)\n",
    "\n",
    "print(\"Updated tuple with new fruit:\")\n",
    "print(new_fruits)"
   ]
  },
  {
   "cell_type": "code",
   "execution_count": 10,
   "metadata": {},
   "outputs": [
    {
     "name": "stdout",
     "output_type": "stream",
     "text": [
      "Extended inventory with additional fruits:\n",
      "('apple', 'watermelon', 'cherry', 'orange', 'strawberry', 'fig', 'grape')\n"
     ]
    }
   ],
   "source": [
    "additional_fruits = (\"fig\", \"grape\")\n",
    "updated_fruits = new_fruits + additional_fruits\n",
    "\n",
    "print(\"Extended inventory with additional fruits:\")\n",
    "print(updated_fruits)"
   ]
  },
  {
   "cell_type": "code",
   "execution_count": 18,
   "metadata": {},
   "outputs": [
    {
     "name": "stdout",
     "output_type": "stream",
     "text": [
      "First group of fruits: ('apple', 'watermelon', 'cherry')\n",
      "First group of fruits: ('strawberry', 'fig', 'grape')\n"
     ]
    }
   ],
   "source": [
    "fruits_1 = updated_fruits[:3]\n",
    "fruits_2 = updated_fruits[-3:]\n",
    "\n",
    "print(\"First group of fruits:\", fruits_1)\n",
    "print(\"First group of fruits:\", fruits_2)"
   ]
  },
  {
   "cell_type": "code",
   "execution_count": 22,
   "metadata": {},
   "outputs": [
    {
     "name": "stdout",
     "output_type": "stream",
     "text": [
      "Final inventory tuple with all changes:\n",
      "('apple', 'watermelon', 'cherry', 'strawberry', 'fig', 'grape', 'apple', 'banana', 'cherry', 'orange', 'strawberry')\n",
      "Length of the final inventory tuple: 11\n"
     ]
    }
   ],
   "source": [
    "final_inventory = fruits_1 + fruits_2 + fruits\n",
    "\n",
    "print(\"Final inventory tuple with all changes:\")\n",
    "print(final_inventory)\n",
    "print(f\"Length of the final inventory tuple: {len(final_inventory)}\")"
   ]
  },
  {
   "cell_type": "markdown",
   "metadata": {},
   "source": [
    "## Exercise 3: Sets"
   ]
  },
  {
   "cell_type": "markdown",
   "metadata": {},
   "source": [
    "Imagine you are a data analyst working for a literature museum. Your manager has given you two poems to analyze, and she wants you to write a Python program to extract useful information from them.\n",
    "\n",
    "Your program should:\n",
    "\n",
    "- Create two sets, one for each poem, containing all unique words in both poems (ignoring case and punctuation).\n",
    "- Print the number of unique words in each set.\n",
    "- Identify and print the unique words present in the first poem but not in the second one.\n",
    "- Identify and print the unique words present in the second poem but not in the first one.\n",
    "- Identify and print the unique words present in both poems and print it in alphabetical order."
   ]
  },
  {
   "cell_type": "markdown",
   "metadata": {},
   "source": [
    "*Recommended External Resources:*\n",
    "- *[Python Sets](https://www.w3schools.com/python/python_sets.asp)* \n",
    "- *[Python Set Methods](https://www.w3schools.com/python/python_ref_set.asp)*\n",
    "- *[Python String Methods](https://www.w3schools.com/python/python_ref_string.asp)*\n"
   ]
  },
  {
   "cell_type": "code",
   "execution_count": 38,
   "metadata": {},
   "outputs": [],
   "source": [
    "poem = \"\"\"Some say the world will end in fire,\n",
    "Some say in ice.\n",
    "From what I’ve tasted of desire\n",
    "I hold with those who favor fire.\n",
    "But if it had to perish twice,\n",
    "I think I know enough of hate\n",
    "To say that for destruction ice\n",
    "Is also great\n",
    "And would suffice.\"\"\"\n",
    "\n",
    "new_poem = \"\"\"Some say life is but a dream,\n",
    "Some say it's a test.\n",
    "From what I've seen and what I deem,\n",
    "I side with those who see it as a quest.\n",
    "\n",
    "But if it had to end today,\n",
    "I think I know enough of love,\n",
    "To say that though it fades away,\n",
    "It's still what we are made of.\"\"\""
   ]
  },
  {
   "cell_type": "code",
   "execution_count": 44,
   "metadata": {},
   "outputs": [
    {
     "name": "stdout",
     "output_type": "stream",
     "text": [
      "Number of unique words in the first poem: 41\n",
      "Number of unique words in the second poem: 42\n",
      "Unique words in the first poem (not in the second): {'also', 'the', 'favor', 'desire', 'ice', 'destruction', 'perish', 'twice', 'for', 'tasted', 'will', 'hold', 'i’ve', 'suffice', 'world', 'would', 'fire', 'great', 'hate', 'in'}\n",
      "Unique words in the second poem (not in the first): {'life', 'seen', 'away', 'though', 'still', 'today', 'see', 'made', 'ive', 'love', 'quest', 'side', 'are', 'a', 'its', 'dream', 'deem', 'fades', 'we', 'as', 'test'}\n",
      "Common words in both poems (alphabetical order): ['a', 'and', 'are', 'as', 'away', 'but', 'deem', 'dream', 'end', 'enough', 'fades', 'from', 'had', 'i', 'if', 'is', 'it', 'its', 'ive', 'know', 'life', 'love', 'made', 'of', 'quest', 'say', 'see', 'seen', 'side', 'some', 'still', 'test', 'that', 'think', 'those', 'though', 'to', 'today', 'we', 'what', 'who', 'with']\n"
     ]
    }
   ],
   "source": [
    "import string\n",
    "\n",
    "normal_poem = poem.lower().translate(str.maketrans('', '', string.punctuation))\n",
    "\n",
    "poem_set = set(normal_poem.split())\n",
    "\n",
    "new_poem = new_poem.lower().translate(str.maketrans('', '', string.punctuation))\n",
    "\n",
    "new_poem_set = set(new_poem.split())\n",
    "\n",
    "print(f\"Number of unique words in the first poem: {len(poem_set)}\")\n",
    "print(f\"Number of unique words in the second poem: {len(new_poem_set)}\")\n",
    "\n",
    "unique_to_first = poem_set - new_poem_set\n",
    "print(f\"Unique words in the first poem (not in the second): {unique_to_first}\")\n",
    "\n",
    "unique_to_second = new_poem_set - poem_set\n",
    "print(f\"Unique words in the second poem (not in the first): {unique_to_second}\")\n",
    "\n",
    "common_words = poem_set and new_poem_set\n",
    "print(f\"Common words in both poems (alphabetical order): {sorted(common_words)}\")"
   ]
  },
  {
   "cell_type": "markdown",
   "metadata": {},
   "source": [
    "## Exercise 4: Dictionaries"
   ]
  },
  {
   "cell_type": "markdown",
   "metadata": {},
   "source": [
    "Consider the following dictionary of students with their scores in different subjects. One of the students, Bob, has complained about his score in Philosophy and, after reviewing it, the teacher has decided to update his score to 100. Write a Python program that updates Bob's score in Philosophy to 100 in the dictionary."
   ]
  },
  {
   "cell_type": "markdown",
   "metadata": {},
   "source": [
    "*Recommended External Resources: [Python Dictionary Examples and Methods](https://www.w3schools.com/python/python_dictionaries.asp)*\n"
   ]
  },
  {
   "cell_type": "code",
   "execution_count": 34,
   "metadata": {},
   "outputs": [],
   "source": [
    "grades = {'Alice': {'Physics': 75, 'Math': 85, 'Chemistry': 60, 'Philosophy': 90}, 'Bob': {'Physics': 75, 'Math': 85, 'Chemistry': 60, 'Philosophy': 90}}"
   ]
  },
  {
   "cell_type": "code",
   "execution_count": 36,
   "metadata": {},
   "outputs": [
    {
     "name": "stdout",
     "output_type": "stream",
     "text": [
      "Updated grades:\n",
      "{'Alice': {'Physics': 75, 'Math': 85, 'Chemistry': 60, 'Philosophy': 90}, 'Bob': {'Physics': 75, 'Math': 85, 'Chemistry': 60, 'Philosophy': 100}}\n"
     ]
    }
   ],
   "source": [
    "grades['Bob']['Philosophy'] = 100\n",
    "\n",
    "print(\"Updated grades:\")\n",
    "print(grades)"
   ]
  },
  {
   "cell_type": "markdown",
   "metadata": {},
   "source": [
    "## Bonus"
   ]
  },
  {
   "cell_type": "markdown",
   "metadata": {},
   "source": [
    "1. Below are the two lists. Write a Python program to convert them into a dictionary in a way that item from list1 is the key and item from list2 is the value."
   ]
  },
  {
   "cell_type": "markdown",
   "metadata": {},
   "source": [
    "*Hint: Use the zip() function. This function takes two or more iterables (like list, dict, string), aggregates them in a tuple, and returns it. Afterwards, you can use a function that turns a tuple into a dictionary.*"
   ]
  },
  {
   "cell_type": "markdown",
   "metadata": {},
   "source": [
    "*Recommended External Resources: [Python Zip Function](https://www.w3schools.com/python/ref_func_zip.asp)*\n"
   ]
  },
  {
   "cell_type": "code",
   "execution_count": 24,
   "metadata": {},
   "outputs": [
    {
     "name": "stdout",
     "output_type": "stream",
     "text": [
      "{'Physics': 75, 'Math': 85, 'Chemistry': 60, 'Philosophy': 90}\n"
     ]
    }
   ],
   "source": [
    "keys = ['Physics', 'Math', 'Chemistry', 'Philosophy']\n",
    "values = [75, 85, 60,90]\n",
    "\n",
    "subject_scores = dict(zip(keys, values))\n",
    "print(subject_scores)"
   ]
  },
  {
   "cell_type": "markdown",
   "metadata": {},
   "source": [
    "2. Get the subject with the minimum score from the previous dictionary."
   ]
  },
  {
   "cell_type": "markdown",
   "metadata": {},
   "source": [
    "*Hint: Use the built-in function min(). Read about the parameter key.*"
   ]
  },
  {
   "cell_type": "markdown",
   "metadata": {},
   "source": [
    "\n",
    "*Recommended External Resources:*\n",
    "- *[Python Min Function Official Documentation](https://docs.python.org/3.8/library/functions.html#min)*\n",
    "- *[How to use key function in max and min in Python](https://medium.com/analytics-vidhya/how-to-use-key-function-in-max-and-min-in-python-1fdbd661c59c)*"
   ]
  },
  {
   "cell_type": "code",
   "execution_count": 30,
   "metadata": {},
   "outputs": [
    {
     "name": "stdout",
     "output_type": "stream",
     "text": [
      "The subject with the minimum score is: Chemistry\n"
     ]
    }
   ],
   "source": [
    "subject = min(subject_scores, key=subject_scores.get)\n",
    "\n",
    "print(f\"The subject with the minimum score is: {subject}\")"
   ]
  }
 ],
 "metadata": {
  "kernelspec": {
   "display_name": "Python 3 (ipykernel)",
   "language": "python",
   "name": "python3"
  },
  "language_info": {
   "codemirror_mode": {
    "name": "ipython",
    "version": 3
   },
   "file_extension": ".py",
   "mimetype": "text/x-python",
   "name": "python",
   "nbconvert_exporter": "python",
   "pygments_lexer": "ipython3",
   "version": "3.12.7"
  }
 },
 "nbformat": 4,
 "nbformat_minor": 4
}
